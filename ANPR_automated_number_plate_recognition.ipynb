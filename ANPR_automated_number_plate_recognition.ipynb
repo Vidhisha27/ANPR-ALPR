{
  "nbformat": 4,
  "nbformat_minor": 0,
  "metadata": {
    "colab": {
      "name": "ANPR_automated_number_plate_recognition.ipynb",
      "provenance": [],
      "collapsed_sections": []
    },
    "kernelspec": {
      "name": "python3",
      "display_name": "Python 3"
    },
    "language_info": {
      "name": "python"
    }
  },
  "cells": [
    {
      "cell_type": "code",
      "source": [
        "!pip install pytesseract"
      ],
      "metadata": {
        "colab": {
          "base_uri": "https://localhost:8080/",
          "height": 363
        },
        "id": "CpOQUQGKAW30",
        "outputId": "f24430b3-9fcd-45d2-a8fe-a1c3e192bebf"
      },
      "execution_count": 3,
      "outputs": [
        {
          "output_type": "stream",
          "name": "stdout",
          "text": [
            "Collecting pytesseract\n",
            "  Downloading pytesseract-0.3.9-py2.py3-none-any.whl (14 kB)\n",
            "Requirement already satisfied: packaging>=21.3 in /usr/local/lib/python3.7/dist-packages (from pytesseract) (21.3)\n",
            "Collecting Pillow>=8.0.0\n",
            "  Downloading Pillow-9.0.1-cp37-cp37m-manylinux_2_17_x86_64.manylinux2014_x86_64.whl (4.3 MB)\n",
            "\u001b[K     |████████████████████████████████| 4.3 MB 4.3 MB/s \n",
            "\u001b[?25hRequirement already satisfied: pyparsing!=3.0.5,>=2.0.2 in /usr/local/lib/python3.7/dist-packages (from packaging>=21.3->pytesseract) (3.0.7)\n",
            "Installing collected packages: Pillow, pytesseract\n",
            "  Attempting uninstall: Pillow\n",
            "    Found existing installation: Pillow 7.1.2\n",
            "    Uninstalling Pillow-7.1.2:\n",
            "      Successfully uninstalled Pillow-7.1.2\n",
            "\u001b[31mERROR: pip's dependency resolver does not currently take into account all the packages that are installed. This behaviour is the source of the following dependency conflicts.\n",
            "albumentations 0.1.12 requires imgaug<0.2.7,>=0.2.5, but you have imgaug 0.2.9 which is incompatible.\u001b[0m\n",
            "Successfully installed Pillow-9.0.1 pytesseract-0.3.9\n"
          ]
        },
        {
          "output_type": "display_data",
          "data": {
            "application/vnd.colab-display-data+json": {
              "pip_warning": {
                "packages": [
                  "PIL"
                ]
              }
            }
          },
          "metadata": {}
        }
      ]
    },
    {
      "cell_type": "code",
      "source": [
        "\n",
        "import imutils\n",
        "import numpy as np\n",
        "import pytesseract\n",
        "pytesseract.pytesseract.tesseract_cmd = r'C:\\Program Files (x86)\\Tesseract-OCR\\tesseract.exe'\n",
        "\n",
        "img = cv2.imread('D://skoda1.jpg',cv2.IMREAD_COLOR)\n",
        "img = cv2.resize(img, (600,400) )\n",
        "\n",
        "gray = cv2.cvtColor(img, cv2.COLOR_BGR2GRAY) \n",
        "gray = cv2.bilateralFilter(gray, 13, 15, 15) \n",
        "\n",
        "edged = cv2.Canny(gray, 30, 200) \n",
        "contours = cv2.findContours(edged.copy(), cv2.RETR_TREE, cv2.CHAIN_APPROX_SIMPLE)\n",
        "contours = imutils.grab_contours(contours)\n",
        "contours = sorted(contours, key = cv2.contourArea, reverse = True)[:10]\n",
        "screenCnt = None\n",
        "\n",
        "for c in contours:\n",
        "    \n",
        "    peri = cv2.arcLength(c, True)\n",
        "    approx = cv2.approxPolyDP(c, 0.018 * peri, True)\n",
        " \n",
        "    if len(approx) == 4:\n",
        "        screenCnt = approx\n",
        "        break\n",
        "\n",
        "if screenCnt is None:\n",
        "    detected = 0\n",
        "    print (\"No contour detected\")\n",
        "else:\n",
        "     detected = 1\n",
        "\n",
        "if detected == 1:\n",
        "    cv2.drawContours(img, [screenCnt], -1, (0, 0, 255), 3)\n",
        "\n",
        "mask = np.zeros(gray.shape,np.uint8)\n",
        "new_image = cv2.drawContours(mask,[screenCnt],0,255,-1,)\n",
        "new_image = cv2.bitwise_and(img,img,mask=mask)\n",
        "\n",
        "(x, y) = np.where(mask == 255)\n",
        "(topx, topy) = (np.min(x), np.min(y))\n",
        "(bottomx, bottomy) = (np.max(x), np.max(y))\n",
        "Cropped = gray[topx:bottomx+1, topy:bottomy+1]\n",
        "\n",
        "text = pytesseract.image_to_string(Cropped, config='--psm 11')\n",
        "print(\"programming_fever's License Plate Recognition\\n\")\n",
        "print(\"Detected license plate Number is:\",text)\n",
        "img = cv2.resize(img,(500,300))\n",
        "Cropped = cv2.resize(Cropped,(400,200))\n",
        "cv2.imshow('car',img)\n",
        "cv2.imshow('Cropped',Cropped)\n",
        "\n",
        "cv2.waitKey(0)\n",
        "cv2.destroyAllWindows()\n",
        "\n",
        "\n",
        " "
      ],
      "metadata": {
        "id": "LavD1E0cNzs_"
      },
      "execution_count": null,
      "outputs": []
    }
  ]
}